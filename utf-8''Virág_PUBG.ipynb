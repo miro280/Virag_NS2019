{
  "cells": [
    {
      "metadata": {
        "trusted": true
      },
      "cell_type": "code",
      "source": "from keras.models import Sequential\nfrom keras.layers import Dense\nimport numpy\n\nnumpy.random.seed(7)\n# načíta dataset\ndataset = numpy.loadtxt(\"PUBG-dataset_top3.csv\", delimiter=\",\")\n# split into input (X) and output (Y) variables\nX = dataset[:,0:4]\nY = dataset[:,4]\n# create model relu\nmodel = Sequential()\nmodel.add(Dense(3, input_dim=4, activation='sigmoid'))\nmodel.add(Dense(2, activation='sigmoid'))\nmodel.add(Dense(1, activation='sigmoid'))\n# Compile model  binary_crossentropy\nmodel.compile(loss='binary_crossentropy', optimizer='sgd', metrics=['accuracy'])\n# Fit the model\nmodel.fit(X, Y, epochs=5, batch_size=5)\n# evaluate the model\nscores = model.evaluate(X, Y)\nprint(\"\\n%s: %.2f%%\" % (model.metrics_names[1], scores[1]*100))",
      "execution_count": 2,
      "outputs": [
        {
          "output_type": "stream",
          "text": "Epoch 1/5\n7836/7836 [==============================] - 3s 381us/step - loss: 0.1877 - acc: 0.9698\nEpoch 2/5\n7836/7836 [==============================] - 2s 298us/step - loss: 0.1378 - acc: 0.9698\nEpoch 3/5\n7836/7836 [==============================] - 2s 283us/step - loss: 0.1359 - acc: 0.9698\nEpoch 4/5\n7836/7836 [==============================] - 2s 293us/step - loss: 0.1357 - acc: 0.9698\nEpoch 5/5\n7836/7836 [==============================] - 2s 301us/step - loss: 0.1358 - acc: 0.9698\n7836/7836 [==============================] - 0s 32us/step\n\nacc: 96.98%\n",
          "name": "stdout"
        }
      ]
    }
  ],
  "metadata": {
    "kernelspec": {
      "name": "python36",
      "display_name": "Python 3.6",
      "language": "python"
    },
    "language_info": {
      "mimetype": "text/x-python",
      "nbconvert_exporter": "python",
      "name": "python",
      "pygments_lexer": "ipython3",
      "version": "3.6.6",
      "file_extension": ".py",
      "codemirror_mode": {
        "version": 3,
        "name": "ipython"
      }
    }
  },
  "nbformat": 4,
  "nbformat_minor": 2
}